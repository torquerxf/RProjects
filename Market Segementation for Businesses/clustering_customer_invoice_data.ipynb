{
  "nbformat": 4,
  "nbformat_minor": 0,
  "metadata": {
    "colab": {
      "provenance": []
    },
    "kernelspec": {
      "name": "python3",
      "display_name": "Python 3"
    },
    "language_info": {
      "name": "python"
    }
  },
  "cells": [
    {
      "cell_type": "markdown",
      "source": [
        "Solution Code Part 1\n"
      ],
      "metadata": {
        "id": "z99Rl_myV66J"
      }
    },
    {
      "cell_type": "code",
      "source": [
        "import pandas as pd\n",
        "from sklearn.preprocessing import StandardScaler\n",
        "from sklearn.cluster import KMeans\n",
        "import matplotlib.pyplot as plt\n",
        "\n",
        "# URL of the CSV file\n",
        "data_url = 'https://archive.ics.uci.edu/ml/machine-learning-databases/00352/Online%20Retail.xlsx'\n",
        "\n",
        "# Read the CSV file into a DataFrame\n",
        "df = pd.read_excel(data_url)  # Assuming the data is in Excel format based on the common source\n",
        "\n",
        "# Convert 'InvoiceDate' to datetime format for time-related features\n",
        "df['InvoiceDate'] = pd.to_datetime(df['InvoiceDate'])\n",
        "\n",
        "# Calculate the total bill for each transaction\n",
        "df['Total_Bill'] = df['Quantity'] * df['UnitPrice']\n",
        "\n",
        "# Aggregate data at the customer level\n",
        "customer_df = df.groupby('CustomerID').agg(\n",
        "    Total_Bill_Size=('Total_Bill', 'sum'),\n",
        "    First_Purchase=('InvoiceDate', 'min'),\n",
        "    Last_Purchase=('InvoiceDate', 'max'),\n",
        "    Most_Common_Location=('Country', lambda x: x.mode()[0]),\n",
        "    Top_Item=('StockCode', lambda x: x.value_counts().idxmax())\n",
        ")\n",
        "\n",
        "# Calculate purchase interval in days\n",
        "customer_df['Purchase_Interval_Days'] = (customer_df['Last_Purchase'] - customer_df['First_Purchase']).dt.days\n",
        "\n",
        "# Reset index to have 'CustomerID' as a column\n",
        "customer_df.reset_index(inplace=True)\n",
        "\n",
        "# Display the customer-level dataframe\n",
        "print(customer_df.head())\n"
      ],
      "metadata": {
        "colab": {
          "base_uri": "https://localhost:8080/"
        },
        "id": "453O8FnJYzxr",
        "outputId": "f99724b5-d11f-43fd-b5b4-ae57a08b1504"
      },
      "execution_count": null,
      "outputs": [
        {
          "output_type": "stream",
          "name": "stdout",
          "text": [
            "   CustomerID  Total_Bill_Size      First_Purchase       Last_Purchase  \\\n",
            "0     12346.0             0.00 2011-01-18 10:01:00 2011-01-18 10:17:00   \n",
            "1     12347.0          4310.00 2010-12-07 14:57:00 2011-12-07 15:52:00   \n",
            "2     12348.0          1797.24 2010-12-16 19:09:00 2011-09-25 13:13:00   \n",
            "3     12349.0          1757.55 2011-11-21 09:51:00 2011-11-21 09:51:00   \n",
            "4     12350.0           334.40 2011-02-02 16:01:00 2011-02-02 16:01:00   \n",
            "\n",
            "  Most_Common_Location Top_Item  Purchase_Interval_Days  \n",
            "0       United Kingdom    23166                       0  \n",
            "1              Iceland    22375                     365  \n",
            "2              Finland     POST                     282  \n",
            "3                Italy    23112                       0  \n",
            "4               Norway    21908                       0  \n"
          ]
        }
      ]
    },
    {
      "cell_type": "code",
      "source": [
        "# Standardize the 'Total_Bill_Size' feature\n",
        "scaler = StandardScaler()\n",
        "customer_df['Total_Bill_Size_Scaled'] = scaler.fit_transform(customer_df[['Total_Bill_Size']])\n",
        "\n",
        "# Perform K-Means clustering\n",
        "kmeans = KMeans(n_clusters=3, random_state=42, n_init=10)  # You may want to adjust the number of clusters based on your analysis\n",
        "customer_df['Cluster'] = kmeans.fit_predict(customer_df[['Total_Bill_Size_Scaled']])\n",
        "\n",
        "# Display the first few rows of the dataframe to verify clustering\n",
        "print(customer_df.head())"
      ],
      "metadata": {
        "colab": {
          "base_uri": "https://localhost:8080/"
        },
        "id": "wd6JN9ctY6xe",
        "outputId": "36350d10-c195-49a9-c921-408391e350d1"
      },
      "execution_count": null,
      "outputs": [
        {
          "output_type": "stream",
          "name": "stdout",
          "text": [
            "   CustomerID  Total_Bill_Size      First_Purchase       Last_Purchase  \\\n",
            "0     12346.0             0.00 2011-01-18 10:01:00 2011-01-18 10:17:00   \n",
            "1     12347.0          4310.00 2010-12-07 14:57:00 2011-12-07 15:52:00   \n",
            "2     12348.0          1797.24 2010-12-16 19:09:00 2011-09-25 13:13:00   \n",
            "3     12349.0          1757.55 2011-11-21 09:51:00 2011-11-21 09:51:00   \n",
            "4     12350.0           334.40 2011-02-02 16:01:00 2011-02-02 16:01:00   \n",
            "\n",
            "  Most_Common_Location Top_Item  Purchase_Interval_Days  \\\n",
            "0       United Kingdom    23166                       0   \n",
            "1              Iceland    22375                     365   \n",
            "2              Finland     POST                     282   \n",
            "3                Italy    23112                       0   \n",
            "4               Norway    21908                       0   \n",
            "\n",
            "   Total_Bill_Size_Scaled  Cluster  \n",
            "0               -0.231001        0  \n",
            "1                0.293432        0  \n",
            "2               -0.012316        0  \n",
            "3               -0.017146        0  \n",
            "4               -0.190312        0  \n"
          ]
        }
      ]
    },
    {
      "cell_type": "code",
      "source": [
        "# Function to summarize cluster information with improved readability\n",
        "def summarize_cluster_info(clustered_df):\n",
        "    for i in range(kmeans.n_clusters):\n",
        "        cluster_data = clustered_df[clustered_df['Cluster'] == i]\n",
        "        print(f\"\\nCluster {i} Summary:\")\n",
        "\n",
        "        # Customer count in each cluster\n",
        "        customer_count = len(cluster_data)\n",
        "        print(f\"Number of Customers in the cluster: {customer_count}\")\n",
        "\n",
        "        # Average spend in each cluster\n",
        "        avg_spend = cluster_data['Total_Bill_Size'].mean()\n",
        "        print(f\"Average Spend: ${avg_spend:.2f}\")\n",
        "\n",
        "        # Top 3 Locations with counts\n",
        "        top_locations = cluster_data['Most_Common_Locations'].value_counts().head(3)\n",
        "        print(\"Top 3 Locations:\")\n",
        "        for location, count in top_locations.items():\n",
        "            print(f\"{location}: {count} customers\")\n",
        "\n",
        "        # Top 3 Items with counts\n",
        "        top_items = cluster_data['Top_Item'].value_counts().head(3)\n",
        "        print(\"Top 3 Item Codes:\")\n",
        "        for item, count in top_items.items():\n",
        "            print(f\"{item}: {count} times purchased\")\n",
        "\n",
        "# Call the function to display the summary\n",
        "summarize_cluster_info(customer_df)"
      ],
      "metadata": {
        "colab": {
          "base_uri": "https://localhost:8080/"
        },
        "id": "9FzynF1SZCug",
        "outputId": "0dcbc139-bf77-4cd9-8efd-91a0b82d6762"
      },
      "execution_count": null,
      "outputs": [
        {
          "output_type": "stream",
          "name": "stdout",
          "text": [
            "\n",
            "Cluster 0 Summary:\n",
            "Number of Customers: 4346\n",
            "Average Spend: $1434.20\n",
            "Top 3 Locations:\n",
            "United Kingdom: 3929 customers\n",
            "Germany: 95 customers\n",
            "France: 87 customers\n",
            "Top 3 Items:\n",
            "POST: 127 times purchased\n",
            "85123A: 92 times purchased\n",
            "22423: 90 times purchased\n",
            "Average Purchase Interval: 132.11 days\n",
            "\n",
            "Cluster 1 Summary:\n",
            "Number of Customers: 3\n",
            "Average Spend: $241136.56\n",
            "Top 3 Locations:\n",
            "United Kingdom: 2 customers\n",
            "Netherlands: 1 customers\n",
            "Top 3 Items:\n",
            "22629: 1 times purchased\n",
            "22470: 1 times purchased\n",
            "22189: 1 times purchased\n",
            "Average Purchase Interval: 359.33 days\n",
            "\n",
            "Cluster 2 Summary:\n",
            "Number of Customers: 23\n",
            "Average Spend: $58418.75\n",
            "Top 3 Locations:\n",
            "United Kingdom: 19 customers\n",
            "EIRE: 2 customers\n",
            "Australia: 1 customers\n",
            "Top 3 Items:\n",
            "22197: 4 times purchased\n",
            "C2: 2 times purchased\n",
            "22630: 1 times purchased\n",
            "Average Purchase Interval: 344.74 days\n"
          ]
        }
      ]
    },
    {
      "cell_type": "markdown",
      "source": [
        "Complete Code Part 2"
      ],
      "metadata": {
        "id": "Afev-9E1Esiu"
      }
    },
    {
      "cell_type": "code",
      "source": [
        "import pandas as pd\n",
        "from sklearn.preprocessing import StandardScaler\n",
        "from sklearn.cluster import DBSCAN\n",
        "from sklearn.metrics import silhouette_score\n",
        "import matplotlib.pyplot as plt\n",
        "\n",
        "# Load the data\n",
        "data_url = 'https://archive.ics.uci.edu/ml/machine-learning-databases/00352/Online%20Retail.xlsx'\n",
        "df = pd.read_excel(data_url)\n",
        "\n",
        "# Preprocess the data\n",
        "df['InvoiceDate'] = pd.to_datetime(df['InvoiceDate'])\n",
        "df['Total_Bill'] = df['Quantity'] * df['UnitPrice']\n",
        "customer_df = df.groupby('CustomerID').agg(\n",
        "    Total_Bill_Size=('Total_Bill', 'sum'),\n",
        "    Purchase_Interval_Days=('InvoiceDate', lambda x: (x.max() - x.min()).days)\n",
        ").reset_index()\n",
        "\n",
        "# Normalize the features\n",
        "scaler = StandardScaler()\n",
        "features = scaler.fit_transform(customer_df[['Total_Bill_Size', 'Purchase_Interval_Days']])\n",
        "\n",
        "# Apply DBSCAN\n",
        "dbscan = DBSCAN(eps=0.5, min_samples=5)\n",
        "clusters = dbscan.fit_predict(features)\n",
        "\n",
        "# Add clusters back to the dataframe\n",
        "customer_df['Cluster'] = clusters\n",
        "\n",
        "# Display clustering results\n",
        "print(\"Cluster counts:\")\n",
        "print(customer_df['Cluster'].value_counts())\n",
        "\n",
        "# Identify and display noise points\n",
        "noise = customer_df[customer_df['Cluster'] == -1]\n",
        "print(f\"Noise points count: {len(noise)}\")\n",
        "\n",
        "# Visualizing the results\n",
        "plt.scatter(features[:, 0], features[:, 1], c=clusters, cmap='viridis', marker='o')\n",
        "plt.title('DBSCAN Clustering')\n",
        "plt.xlabel('Scaled Total Bill Size')\n",
        "plt.ylabel('Scaled Purchase Interval Days')\n",
        "plt.colorbar(label='Cluster Label')\n",
        "plt.show()\n",
        "\n",
        "# Summary of results\n",
        "def summarize_clusters(df):\n",
        "    grouped = df.groupby('Cluster')\n",
        "    for key, group in grouped:\n",
        "        if key == -1:\n",
        "            continue  # Skip the noise points for detailed summary\n",
        "        print(f\"\\nCluster {key} Summary:\")\n",
        "        print(f\"Number of Customers: {len(group)}\")\n",
        "        avg_bill = group['Total_Bill_Size'].mean()\n",
        "        avg_interval = group['Purchase_Interval_Days'].mean()\n",
        "        print(f\"Average Total Bill: {avg_bill:.2f}\")\n",
        "        print(f\"Average Purchase Interval: {avg_interval:.2f}\")\n",
        "\n",
        "summarize_clusters(customer_df)\n"
      ],
      "metadata": {
        "colab": {
          "base_uri": "https://localhost:8080/",
          "height": 880
        },
        "id": "7IjtvB1qPud6",
        "outputId": "711f51fc-188f-4e79-a028-1969dc595c55"
      },
      "execution_count": null,
      "outputs": [
        {
          "output_type": "stream",
          "name": "stdout",
          "text": [
            "Silhouette Coefficient: 0.70\n",
            "Cluster counts:\n",
            "Cluster\n",
            " 0    4337\n",
            " 1      16\n",
            "-1      12\n",
            " 2       7\n",
            "Name: count, dtype: int64\n",
            "Noise points count: 12\n"
          ]
        },
        {
          "output_type": "display_data",
          "data": {
            "text/plain": [
              "<Figure size 640x480 with 2 Axes>"
            ],
            "image/png": "[encoded data removed]"
          },
          "metadata": {}
        },
        {
          "output_type": "stream",
          "name": "stdout",
          "text": [
            "\n",
            "Cluster 0 Summary:\n",
            "Number of Customers: 4337\n",
            "Average Total Bill: 1381.65\n",
            "Average Purchase Interval: 131.72\n",
            "\n",
            "Cluster 1 Summary:\n",
            "Number of Customers: 16\n",
            "Average Total Bill: 30720.77\n",
            "Average Purchase Interval: 353.69\n",
            "\n",
            "Cluster 2 Summary:\n",
            "Number of Customers: 7\n",
            "Average Total Bill: 52637.10\n",
            "Average Purchase Interval: 353.00\n"
          ]
        }
      ]
    }
  ]
}